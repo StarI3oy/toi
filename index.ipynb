{
 "cells": [
  {
   "cell_type": "code",
   "execution_count": 23,
   "metadata": {},
   "outputs": [],
   "source": [
    "import pandas as pd\n",
    "import math"
   ]
  },
  {
   "cell_type": "markdown",
   "metadata": {},
   "source": [
    "## Дана строка \n",
    "\n",
    "ААВВГАВВББВВАББВВГГВВААВВБВВГВВАВВААГБВВ \n",
    "\n",
    "БАВВАВВБВВАБВВАГВВГААВВБГБВВГВВАБВВББВВА\n",
    "\n",
    "ВВББВВБАВВАБВВАГВВАБ"
   ]
  },
  {
   "cell_type": "markdown",
   "metadata": {},
   "source": [
    "## 1 задание"
   ]
  },
  {
   "cell_type": "markdown",
   "metadata": {},
   "source": [
    "## Длина сообщения:"
   ]
  },
  {
   "cell_type": "code",
   "execution_count": 29,
   "metadata": {},
   "outputs": [],
   "source": [
    "A = \"ААВВГАВВББВВАББВВГГВВААВВБВВГВВАВВААГБВВБАВВАВВБВВАБВВАГВВГААВВБГБВВГВВАБВВББВВАВВББВВБАВВАБВВАГВВАБ\""
   ]
  },
  {
   "cell_type": "code",
   "execution_count": 9,
   "metadata": {},
   "outputs": [
    {
     "name": "stdout",
     "output_type": "stream",
     "text": [
      "Длина сообщения равна L(A):  100\n"
     ]
    }
   ],
   "source": [
    "print(\"Длина сообщения равна L(A): \", L(A))"
   ]
  },
  {
   "cell_type": "markdown",
   "metadata": {},
   "source": [
    "Объем алфавита равен M = 4 {А, Б, В, Г}"
   ]
  },
  {
   "cell_type": "code",
   "execution_count": 32,
   "metadata": {},
   "outputs": [],
   "source": [
    "kolvo_a = A.count(\"А\")\n",
    "kolvo_be = A.count(\"Б\")\n",
    "kolvo_ve = A.count(\"В\")\n",
    "kolvo_ge = A.count(\"Г\")\n",
    "summary = kolvo_a + kolvo_be + kolvo_ve + kolvo_ge\n",
    "P_a = kolvo_a / summary\n",
    "P_b = kolvo_be / summary\n",
    "P_v = kolvo_ve / summary\n",
    "P_g = kolvo_ge / summary\n",
    "summaryP= P_a + P_b + P_v + P_g\n",
    "J_a = - math.log(P_a, 2)\n",
    "J_b = - math.log(P_b, 2)\n",
    "J_v = - math.log(P_v, 2)\n",
    "J_g = - math.log(P_g, 2)\n",
    "summaryJ = J_a + J_b + J_v + J_g"
   ]
  },
  {
   "cell_type": "code",
   "execution_count": 21,
   "metadata": {},
   "outputs": [
    {
     "data": {
      "text/plain": [
       "100"
      ]
     },
     "execution_count": 21,
     "metadata": {},
     "output_type": "execute_result"
    }
   ],
   "source": [
    "summary"
   ]
  },
  {
   "cell_type": "code",
   "execution_count": 40,
   "metadata": {},
   "outputs": [],
   "source": [
    "result_3 = pd.DataFrame([[\"А\", kolvo_a,P_a,J_a],[\"Б\",kolvo_be,P_b, J_b],[\"В\",kolvo_ve,P_v, J_v],[\"Г\",kolvo_ge,P_g, J_g], [\"Σ\",summary, summaryP, summaryJ]], columns = [\"a_i\", \"na_i\", \"p(a_i)\", \"J(a_i)\"])"
   ]
  },
  {
   "cell_type": "code",
   "execution_count": 59,
   "metadata": {},
   "outputs": [
    {
     "data": {
      "text/html": [
       "<div>\n",
       "<style scoped>\n",
       "    .dataframe tbody tr th:only-of-type {\n",
       "        vertical-align: middle;\n",
       "    }\n",
       "\n",
       "    .dataframe tbody tr th {\n",
       "        vertical-align: top;\n",
       "    }\n",
       "\n",
       "    .dataframe thead th {\n",
       "        text-align: right;\n",
       "    }\n",
       "</style>\n",
       "<table border=\"1\" class=\"dataframe\">\n",
       "  <thead>\n",
       "    <tr style=\"text-align: right;\">\n",
       "      <th></th>\n",
       "      <th>a_i</th>\n",
       "      <th>na_i</th>\n",
       "      <th>p(a_i)</th>\n",
       "      <th>J(a_i)</th>\n",
       "    </tr>\n",
       "  </thead>\n",
       "  <tbody>\n",
       "    <tr>\n",
       "      <th>0</th>\n",
       "      <td>А</td>\n",
       "      <td>21</td>\n",
       "      <td>0.21</td>\n",
       "      <td>2.251539</td>\n",
       "    </tr>\n",
       "    <tr>\n",
       "      <th>1</th>\n",
       "      <td>Б</td>\n",
       "      <td>19</td>\n",
       "      <td>0.19</td>\n",
       "      <td>2.395929</td>\n",
       "    </tr>\n",
       "    <tr>\n",
       "      <th>2</th>\n",
       "      <td>В</td>\n",
       "      <td>50</td>\n",
       "      <td>0.50</td>\n",
       "      <td>1.000000</td>\n",
       "    </tr>\n",
       "    <tr>\n",
       "      <th>3</th>\n",
       "      <td>Г</td>\n",
       "      <td>10</td>\n",
       "      <td>0.10</td>\n",
       "      <td>3.321928</td>\n",
       "    </tr>\n",
       "    <tr>\n",
       "      <th>4</th>\n",
       "      <td>Σ</td>\n",
       "      <td>100</td>\n",
       "      <td>1.00</td>\n",
       "      <td>8.969396</td>\n",
       "    </tr>\n",
       "  </tbody>\n",
       "</table>\n",
       "</div>"
      ],
      "text/plain": [
       "  a_i  na_i  p(a_i)    J(a_i)\n",
       "0   А    21    0.21  2.251539\n",
       "1   Б    19    0.19  2.395929\n",
       "2   В    50    0.50  1.000000\n",
       "3   Г    10    0.10  3.321928\n",
       "4   Σ   100    1.00  8.969396"
      ]
     },
     "execution_count": 59,
     "metadata": {},
     "output_type": "execute_result"
    }
   ],
   "source": [
    "result_3"
   ]
  },
  {
   "cell_type": "code",
   "execution_count": 34,
   "metadata": {},
   "outputs": [
    {
     "name": "stdout",
     "output_type": "stream",
     "text": [
      "{'АА': [4], 'АБ': [5], 'АВ': [9], 'АГ': [3], 'БА': [2], 'ББ': [4], 'БВ': [11], 'БГ': [1], 'ВА': [12], 'ВБ': [8], 'ВВ': [25], 'ВГ': [5], 'ГА': [2], 'ГБ': [2], 'ГВ': [5], 'ГГ': [1]}\n"
     ]
    }
   ],
   "source": [
    "dictionary = \"АБВГ\"\n",
    "variations = {}\n",
    "for i in dictionary:\n",
    "    for j in dictionary:\n",
    "        variations[i+j] = [A.count(i+j)]\n",
    "print(variations)"
   ]
  },
  {
   "cell_type": "code",
   "execution_count": 38,
   "metadata": {},
   "outputs": [
    {
     "data": {
      "text/plain": [
       "99"
      ]
     },
     "execution_count": 38,
     "metadata": {},
     "output_type": "execute_result"
    }
   ],
   "source": [
    "summa = 0\n",
    "for i in variations.keys():\n",
    "    summa += variations[i][0]\n",
    "summa"
   ]
  },
  {
   "cell_type": "code",
   "execution_count": 52,
   "metadata": {},
   "outputs": [
    {
     "name": "stderr",
     "output_type": "stream",
     "text": [
      "C:\\Users\\Александр\\AppData\\Local\\Temp\\ipykernel_15388\\948132305.py:1: FutureWarning: Calling float on a single element Series is deprecated and will raise a TypeError in the future. Use float(ser.iloc[0]) instead\n",
      "  float(result_3.loc[result_3['a_i'] == list(i)[0]][\"p(a_i)\"] + result_3.loc[result_3['a_i'] == list(i)[1]][\"p(a_i)\"])\n"
     ]
    },
    {
     "data": {
      "text/plain": [
       "0.2"
      ]
     },
     "execution_count": 52,
     "metadata": {},
     "output_type": "execute_result"
    }
   ],
   "source": [
    "float(result_3.loc[result_3['a_i'] == list(i)[0]][\"p(a_i)\"] + result_3.loc[result_3['a_i'] == list(i)[1]][\"p(a_i)\"])"
   ]
  },
  {
   "cell_type": "code",
   "execution_count": 58,
   "metadata": {},
   "outputs": [
    {
     "data": {
      "text/html": [
       "<div>\n",
       "<style scoped>\n",
       "    .dataframe tbody tr th:only-of-type {\n",
       "        vertical-align: middle;\n",
       "    }\n",
       "\n",
       "    .dataframe tbody tr th {\n",
       "        vertical-align: top;\n",
       "    }\n",
       "\n",
       "    .dataframe thead th {\n",
       "        text-align: right;\n",
       "    }\n",
       "</style>\n",
       "<table border=\"1\" class=\"dataframe\">\n",
       "  <thead>\n",
       "    <tr style=\"text-align: right;\">\n",
       "      <th></th>\n",
       "      <th>a_i,a_j</th>\n",
       "      <th>n(a_i,a_j)</th>\n",
       "      <th>P(a_i,a_j)</th>\n",
       "      <th>P(a_i),P(a_j)</th>\n",
       "    </tr>\n",
       "  </thead>\n",
       "  <tbody>\n",
       "    <tr>\n",
       "      <th>0</th>\n",
       "      <td>АА</td>\n",
       "      <td>4</td>\n",
       "      <td>0.040404</td>\n",
       "      <td>0.42</td>\n",
       "    </tr>\n",
       "    <tr>\n",
       "      <th>1</th>\n",
       "      <td>АБ</td>\n",
       "      <td>5</td>\n",
       "      <td>0.050505</td>\n",
       "      <td>0.40</td>\n",
       "    </tr>\n",
       "    <tr>\n",
       "      <th>2</th>\n",
       "      <td>АВ</td>\n",
       "      <td>9</td>\n",
       "      <td>0.090909</td>\n",
       "      <td>0.71</td>\n",
       "    </tr>\n",
       "    <tr>\n",
       "      <th>3</th>\n",
       "      <td>АГ</td>\n",
       "      <td>3</td>\n",
       "      <td>0.030303</td>\n",
       "      <td>0.31</td>\n",
       "    </tr>\n",
       "    <tr>\n",
       "      <th>4</th>\n",
       "      <td>БА</td>\n",
       "      <td>2</td>\n",
       "      <td>0.020202</td>\n",
       "      <td>0.40</td>\n",
       "    </tr>\n",
       "    <tr>\n",
       "      <th>5</th>\n",
       "      <td>ББ</td>\n",
       "      <td>4</td>\n",
       "      <td>0.040404</td>\n",
       "      <td>0.38</td>\n",
       "    </tr>\n",
       "    <tr>\n",
       "      <th>6</th>\n",
       "      <td>БВ</td>\n",
       "      <td>11</td>\n",
       "      <td>0.111111</td>\n",
       "      <td>0.69</td>\n",
       "    </tr>\n",
       "    <tr>\n",
       "      <th>7</th>\n",
       "      <td>БГ</td>\n",
       "      <td>1</td>\n",
       "      <td>0.010101</td>\n",
       "      <td>0.29</td>\n",
       "    </tr>\n",
       "    <tr>\n",
       "      <th>8</th>\n",
       "      <td>ВА</td>\n",
       "      <td>12</td>\n",
       "      <td>0.121212</td>\n",
       "      <td>0.71</td>\n",
       "    </tr>\n",
       "    <tr>\n",
       "      <th>9</th>\n",
       "      <td>ВБ</td>\n",
       "      <td>8</td>\n",
       "      <td>0.080808</td>\n",
       "      <td>0.69</td>\n",
       "    </tr>\n",
       "    <tr>\n",
       "      <th>10</th>\n",
       "      <td>ВВ</td>\n",
       "      <td>25</td>\n",
       "      <td>0.252525</td>\n",
       "      <td>1.00</td>\n",
       "    </tr>\n",
       "    <tr>\n",
       "      <th>11</th>\n",
       "      <td>ВГ</td>\n",
       "      <td>5</td>\n",
       "      <td>0.050505</td>\n",
       "      <td>0.60</td>\n",
       "    </tr>\n",
       "    <tr>\n",
       "      <th>12</th>\n",
       "      <td>ГА</td>\n",
       "      <td>2</td>\n",
       "      <td>0.020202</td>\n",
       "      <td>0.31</td>\n",
       "    </tr>\n",
       "    <tr>\n",
       "      <th>13</th>\n",
       "      <td>ГБ</td>\n",
       "      <td>2</td>\n",
       "      <td>0.020202</td>\n",
       "      <td>0.29</td>\n",
       "    </tr>\n",
       "    <tr>\n",
       "      <th>14</th>\n",
       "      <td>ГВ</td>\n",
       "      <td>5</td>\n",
       "      <td>0.050505</td>\n",
       "      <td>0.60</td>\n",
       "    </tr>\n",
       "    <tr>\n",
       "      <th>15</th>\n",
       "      <td>ГГ</td>\n",
       "      <td>1</td>\n",
       "      <td>0.010101</td>\n",
       "      <td>0.20</td>\n",
       "    </tr>\n",
       "  </tbody>\n",
       "</table>\n",
       "</div>"
      ],
      "text/plain": [
       "   a_i,a_j  n(a_i,a_j)  P(a_i,a_j)  P(a_i),P(a_j)\n",
       "0       АА           4    0.040404           0.42\n",
       "1       АБ           5    0.050505           0.40\n",
       "2       АВ           9    0.090909           0.71\n",
       "3       АГ           3    0.030303           0.31\n",
       "4       БА           2    0.020202           0.40\n",
       "5       ББ           4    0.040404           0.38\n",
       "6       БВ          11    0.111111           0.69\n",
       "7       БГ           1    0.010101           0.29\n",
       "8       ВА          12    0.121212           0.71\n",
       "9       ВБ           8    0.080808           0.69\n",
       "10      ВВ          25    0.252525           1.00\n",
       "11      ВГ           5    0.050505           0.60\n",
       "12      ГА           2    0.020202           0.31\n",
       "13      ГБ           2    0.020202           0.29\n",
       "14      ГВ           5    0.050505           0.60\n",
       "15      ГГ           1    0.010101           0.20"
      ]
     },
     "execution_count": 58,
     "metadata": {},
     "output_type": "execute_result"
    }
   ],
   "source": [
    "pd.DataFrame([[i, variations[i][0], variations[i][0]/ summa, result_3.loc[result_3['a_i'] == list(i)[0]][\"p(a_i)\"].values[0] + result_3.loc[result_3['a_i'] == list(i)[1]][\"p(a_i)\"].values[0]] for i in variations.keys()], columns = [\"a_i,a_j\", \"n(a_i,a_j)\", \"P(a_i,a_j)\", \"P(a_i),P(a_j)\"])"
   ]
  },
  {
   "cell_type": "code",
   "execution_count": 4,
   "metadata": {},
   "outputs": [],
   "source": [
    "def L(a):\n",
    "    return(len(a))"
   ]
  }
 ],
 "metadata": {
  "kernelspec": {
   "display_name": "Python 3",
   "language": "python",
   "name": "python3"
  },
  "language_info": {
   "codemirror_mode": {
    "name": "ipython",
    "version": 3
   },
   "file_extension": ".py",
   "mimetype": "text/x-python",
   "name": "python",
   "nbconvert_exporter": "python",
   "pygments_lexer": "ipython3",
   "version": "3.11.5"
  }
 },
 "nbformat": 4,
 "nbformat_minor": 2
}
